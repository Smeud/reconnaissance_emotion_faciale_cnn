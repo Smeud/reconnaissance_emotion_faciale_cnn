{
 "cells": [
  {
   "cell_type": "code",
   "execution_count": 1,
   "metadata": {},
   "outputs": [
    {
     "name": "stderr",
     "output_type": "stream",
     "text": [
      "Using TensorFlow backend.\n"
     ]
    }
   ],
   "source": [
    "import pickle\n",
    "import tensorflow as tf\n",
    "import numpy as np\n",
    "import matplotlib.pyplot as plt\n",
    "import matplotlib.pyplot as specgram\n",
    "import keras\n",
    "from keras.preprocessing import sequence\n",
    "from keras.models import Sequential\n",
    "from keras.layers import Dense\n",
    "from keras.preprocessing.text import Tokenizer\n",
    "from keras.preprocessing.sequence import pad_sequences\n",
    "from keras.utils import to_categorical\n",
    "from keras.optimizers import Adam\n",
    "from keras.layers import Input, Flatten, Dropout, Activation\n",
    "from keras.layers import Conv2D, MaxPooling2D\n",
    "from keras.models import Model\n",
    "from keras.callbacks import ModelCheckpoint\n",
    "from sklearn.metrics import confusion_matrix"
   ]
  },
  {
   "cell_type": "code",
   "execution_count": 2,
   "metadata": {},
   "outputs": [],
   "source": [
    "training_file = './dataset/train_batch_0'\n",
    "testing_file = './dataset/test_batch_0'"
   ]
  },
  {
   "cell_type": "code",
   "execution_count": 3,
   "metadata": {},
   "outputs": [],
   "source": [
    "with open(training_file, mode='rb') as f:\n",
    "    train = pickle.load(f)\n",
    "with open(testing_file, mode='rb') as f:\n",
    "    test = pickle.load(f)"
   ]
  },
  {
   "cell_type": "code",
   "execution_count": 4,
   "metadata": {},
   "outputs": [],
   "source": [
    "#X_train, y_train = train['data'], train['labels']\n",
    "#X_test, y_test = test['data'], test['labels']\n",
    "from keras.utils import np_utils\n",
    "\n",
    "X_train = np.array(train['data'])\n",
    "y_train = np.array(train['labels'])\n",
    "X_test = np.array(test['data'])\n",
    "y_test = np.array(test['labels'])\n",
    "\n",
    "X_train = X_train.reshape(X_train.shape[0], 48, 48, 1)\n",
    "X_test = X_test.reshape(X_test.shape[0], 48, 48, 1)\n",
    "input_shape = (48, 48, 1)\n",
    "\n",
    "#x_train =np.expand_dims(x_train, axis=0)\n",
    "#x_test= np.expand_dims(x_test, axis=0)"
   ]
  },
  {
   "cell_type": "code",
   "execution_count": 5,
   "metadata": {},
   "outputs": [
    {
     "name": "stdout",
     "output_type": "stream",
     "text": [
      "Number of training examples = 7200\n",
      "Number of testing examples = 7200\n",
      "Image data shape = (48, 48, 1)\n",
      "Number of classes = 6\n"
     ]
    }
   ],
   "source": [
    "print(\"Number of training examples =\", X_train.shape[0])\n",
    "print(\"Number of testing examples =\", X_test.shape[0])\n",
    "print(\"Image data shape =\", X_train[0].shape)\n",
    "print(\"Number of classes =\", len(np.unique(y_train)))"
   ]
  },
  {
   "cell_type": "code",
   "execution_count": null,
   "metadata": {},
   "outputs": [],
   "source": []
  },
  {
   "cell_type": "code",
   "execution_count": 6,
   "metadata": {},
   "outputs": [],
   "source": [
    "model = Sequential()\n",
    "\n",
    "model.add(Conv2D(64, (3,3), padding='same',\n",
    "                 input_shape=(48, 48, 1)))\n",
    "model.add(Activation('relu'))\n",
    "model.add(MaxPooling2D(pool_size=(2)))\n",
    "\n",
    "model.add(Conv2D(128, 3, padding='same'))\n",
    "model.add(Activation('relu'))\n",
    "model.add(MaxPooling2D(pool_size=(2)))\n",
    "\n",
    "model.add(Dropout(0.1))\n",
    "\n",
    "model.add(Conv2D(256, 3, padding='same'))\n",
    "model.add(Activation('relu'))\n",
    "model.add(MaxPooling2D(pool_size=(2)))\n",
    "\n",
    "model.add(Flatten())\n",
    "model.add(Dropout(0.2))\n",
    "\n",
    "model.add(Dense(512, activation='relu', input_dim=20))\n",
    "model.add(Dropout(0.5))\n",
    "model.add(Dense(6)) \n",
    "model.add(Activation('softmax'))\n",
    "adam = keras.optimizers.rmsprop(lr=0.00001, decay=1e-6)"
   ]
  },
  {
   "cell_type": "code",
   "execution_count": 7,
   "metadata": {},
   "outputs": [
    {
     "name": "stdout",
     "output_type": "stream",
     "text": [
      "_________________________________________________________________\n",
      "Layer (type)                 Output Shape              Param #   \n",
      "=================================================================\n",
      "conv2d_1 (Conv2D)            (None, 48, 48, 64)        640       \n",
      "_________________________________________________________________\n",
      "activation_1 (Activation)    (None, 48, 48, 64)        0         \n",
      "_________________________________________________________________\n",
      "max_pooling2d_1 (MaxPooling2 (None, 24, 24, 64)        0         \n",
      "_________________________________________________________________\n",
      "conv2d_2 (Conv2D)            (None, 24, 24, 128)       73856     \n",
      "_________________________________________________________________\n",
      "activation_2 (Activation)    (None, 24, 24, 128)       0         \n",
      "_________________________________________________________________\n",
      "max_pooling2d_2 (MaxPooling2 (None, 12, 12, 128)       0         \n",
      "_________________________________________________________________\n",
      "dropout_1 (Dropout)          (None, 12, 12, 128)       0         \n",
      "_________________________________________________________________\n",
      "conv2d_3 (Conv2D)            (None, 12, 12, 256)       295168    \n",
      "_________________________________________________________________\n",
      "activation_3 (Activation)    (None, 12, 12, 256)       0         \n",
      "_________________________________________________________________\n",
      "max_pooling2d_3 (MaxPooling2 (None, 6, 6, 256)         0         \n",
      "_________________________________________________________________\n",
      "flatten_1 (Flatten)          (None, 9216)              0         \n",
      "_________________________________________________________________\n",
      "dropout_2 (Dropout)          (None, 9216)              0         \n",
      "_________________________________________________________________\n",
      "dense_1 (Dense)              (None, 512)               4719104   \n",
      "_________________________________________________________________\n",
      "dropout_3 (Dropout)          (None, 512)               0         \n",
      "_________________________________________________________________\n",
      "dense_2 (Dense)              (None, 6)                 3078      \n",
      "_________________________________________________________________\n",
      "activation_4 (Activation)    (None, 6)                 0         \n",
      "=================================================================\n",
      "Total params: 5,091,846\n",
      "Trainable params: 5,091,846\n",
      "Non-trainable params: 0\n",
      "_________________________________________________________________\n"
     ]
    }
   ],
   "source": [
    "model.summary()"
   ]
  },
  {
   "cell_type": "code",
   "execution_count": 8,
   "metadata": {},
   "outputs": [],
   "source": [
    "#adam = Adam(lr=0.001, beta_1=0.9, beta_2=0.999, epsilon=1e-06, decay=0.01)\n",
    "model.compile(loss='sparse_categorical_crossentropy', optimizer=adam,metrics=['accuracy'])"
   ]
  },
  {
   "cell_type": "code",
   "execution_count": 9,
   "metadata": {},
   "outputs": [],
   "source": [
    "#x_train = np.random.random((7200, 2304))\n",
    "#y_train = keras.utils.to_categorical(np.random.randint(6, size=(7200, 1)), num_classes=6)\n",
    "#x_test = np.random.random((7200, 2304))\n",
    "#y_test = keras.utils.to_categorical(np.random.randint(6, size=(7200, 1)), num_classes=6)"
   ]
  },
  {
   "cell_type": "code",
   "execution_count": 10,
   "metadata": {},
   "outputs": [],
   "source": [
    "one_hot_labels = keras.utils.to_categorical(y_train, num_classes=6)"
   ]
  },
  {
   "cell_type": "code",
   "execution_count": 11,
   "metadata": {},
   "outputs": [
    {
     "name": "stdout",
     "output_type": "stream",
     "text": [
      "Train on 7200 samples, validate on 7200 samples\n",
      "Epoch 1/100\n",
      "7200/7200 [==============================] - 350s 49ms/step - loss: 4.5382 - acc: 0.2542 - val_loss: 1.3959 - val_acc: 0.4729\n",
      "Epoch 2/100\n",
      "7200/7200 [==============================] - 367s 51ms/step - loss: 1.7842 - acc: 0.3436 - val_loss: 1.4312 - val_acc: 0.5289\n",
      "Epoch 3/100\n",
      "7200/7200 [==============================] - 409s 57ms/step - loss: 1.5210 - acc: 0.4074 - val_loss: 1.2754 - val_acc: 0.5858\n",
      "Epoch 4/100\n",
      "7200/7200 [==============================] - 418s 58ms/step - loss: 1.3860 - acc: 0.4658 - val_loss: 1.1027 - val_acc: 0.6435\n",
      "Epoch 5/100\n",
      "7200/7200 [==============================] - 427s 59ms/step - loss: 1.2533 - acc: 0.5169 - val_loss: 0.9707 - val_acc: 0.7039\n",
      "Epoch 6/100\n",
      "7200/7200 [==============================] - 418s 58ms/step - loss: 1.1471 - acc: 0.5601 - val_loss: 0.8362 - val_acc: 0.7474\n",
      "Epoch 7/100\n",
      "7200/7200 [==============================] - 423s 59ms/step - loss: 1.0320 - acc: 0.6094 - val_loss: 0.7323 - val_acc: 0.7781\n",
      "Epoch 8/100\n",
      "7200/7200 [==============================] - 417s 58ms/step - loss: 0.9437 - acc: 0.6335 - val_loss: 0.6283 - val_acc: 0.8194\n",
      "Epoch 9/100\n",
      "7200/7200 [==============================] - 366s 51ms/step - loss: 0.8517 - acc: 0.6719 - val_loss: 0.5619 - val_acc: 0.8439\n",
      "Epoch 10/100\n",
      "7200/7200 [==============================] - 364s 51ms/step - loss: 0.7712 - acc: 0.7060 - val_loss: 0.4862 - val_acc: 0.8661\n",
      "Epoch 11/100\n",
      "7200/7200 [==============================] - 363s 50ms/step - loss: 0.7113 - acc: 0.7331 - val_loss: 0.4514 - val_acc: 0.8738\n",
      "Epoch 12/100\n",
      "7200/7200 [==============================] - 363s 50ms/step - loss: 0.6475 - acc: 0.7567 - val_loss: 0.3887 - val_acc: 0.8983\n",
      "Epoch 13/100\n",
      "7200/7200 [==============================] - 363s 50ms/step - loss: 0.5837 - acc: 0.7797 - val_loss: 0.3579 - val_acc: 0.8967\n",
      "Epoch 14/100\n",
      "7200/7200 [==============================] - 362s 50ms/step - loss: 0.5367 - acc: 0.7978 - val_loss: 0.3039 - val_acc: 0.9193\n",
      "Epoch 15/100\n",
      "7200/7200 [==============================] - 363s 50ms/step - loss: 0.5117 - acc: 0.8139 - val_loss: 0.2867 - val_acc: 0.9232\n",
      "Epoch 16/100\n",
      "7200/7200 [==============================] - 347s 48ms/step - loss: 0.4601 - acc: 0.8311 - val_loss: 0.2854 - val_acc: 0.9187\n",
      "Epoch 17/100\n",
      "7200/7200 [==============================] - 359s 50ms/step - loss: 0.4239 - acc: 0.8472 - val_loss: 0.2373 - val_acc: 0.9410\n",
      "Epoch 18/100\n",
      "7200/7200 [==============================] - 382s 53ms/step - loss: 0.4093 - acc: 0.8497 - val_loss: 0.2255 - val_acc: 0.9417\n",
      "Epoch 19/100\n",
      "7200/7200 [==============================] - 340s 47ms/step - loss: 0.3760 - acc: 0.8668 - val_loss: 0.1989 - val_acc: 0.9457\n",
      "Epoch 20/100\n",
      "7200/7200 [==============================] - 343s 48ms/step - loss: 0.3474 - acc: 0.8783 - val_loss: 0.1837 - val_acc: 0.9528\n",
      "Epoch 21/100\n",
      "7200/7200 [==============================] - 343s 48ms/step - loss: 0.3370 - acc: 0.8758 - val_loss: 0.1777 - val_acc: 0.9554\n",
      "Epoch 22/100\n",
      "7200/7200 [==============================] - 343s 48ms/step - loss: 0.3058 - acc: 0.8899 - val_loss: 0.1524 - val_acc: 0.9604\n",
      "Epoch 23/100\n",
      "7200/7200 [==============================] - 380s 53ms/step - loss: 0.2903 - acc: 0.8968 - val_loss: 0.1433 - val_acc: 0.9629\n",
      "Epoch 24/100\n",
      "7200/7200 [==============================] - 359s 50ms/step - loss: 0.2685 - acc: 0.9032 - val_loss: 0.1321 - val_acc: 0.9663\n",
      "Epoch 25/100\n",
      "7200/7200 [==============================] - 341s 47ms/step - loss: 0.2490 - acc: 0.9111 - val_loss: 0.1290 - val_acc: 0.9678\n",
      "Epoch 26/100\n",
      "7200/7200 [==============================] - 393s 55ms/step - loss: 0.2386 - acc: 0.9136 - val_loss: 0.1165 - val_acc: 0.9742\n",
      "Epoch 27/100\n",
      "7200/7200 [==============================] - 351s 49ms/step - loss: 0.2202 - acc: 0.9232 - val_loss: 0.1114 - val_acc: 0.9714\n",
      "Epoch 28/100\n",
      "7200/7200 [==============================] - 386s 54ms/step - loss: 0.2086 - acc: 0.9257 - val_loss: 0.0995 - val_acc: 0.9756\n",
      "Epoch 29/100\n",
      "7200/7200 [==============================] - 391s 54ms/step - loss: 0.1956 - acc: 0.9282 - val_loss: 0.0942 - val_acc: 0.9765\n",
      "Epoch 30/100\n",
      "7200/7200 [==============================] - 362s 50ms/step - loss: 0.1916 - acc: 0.9322 - val_loss: 0.0876 - val_acc: 0.9790\n",
      "Epoch 31/100\n",
      "7200/7200 [==============================] - 363s 50ms/step - loss: 0.1788 - acc: 0.9389 - val_loss: 0.0855 - val_acc: 0.9789\n",
      "Epoch 32/100\n",
      "7200/7200 [==============================] - 362s 50ms/step - loss: 0.1730 - acc: 0.9403 - val_loss: 0.0846 - val_acc: 0.9796\n",
      "Epoch 33/100\n",
      "7200/7200 [==============================] - 363s 50ms/step - loss: 0.1548 - acc: 0.9456 - val_loss: 0.0724 - val_acc: 0.9831\n",
      "Epoch 34/100\n",
      "7200/7200 [==============================] - 378s 52ms/step - loss: 0.1534 - acc: 0.9490 - val_loss: 0.0759 - val_acc: 0.9806\n",
      "Epoch 35/100\n",
      "7200/7200 [==============================] - 399s 55ms/step - loss: 0.1432 - acc: 0.9501 - val_loss: 0.0659 - val_acc: 0.9856\n",
      "Epoch 36/100\n",
      "7200/7200 [==============================] - 409s 57ms/step - loss: 0.1302 - acc: 0.9539 - val_loss: 0.0648 - val_acc: 0.9838\n",
      "Epoch 37/100\n",
      "7200/7200 [==============================] - 405s 56ms/step - loss: 0.1232 - acc: 0.9572 - val_loss: 0.0586 - val_acc: 0.9850\n",
      "Epoch 38/100\n",
      "7200/7200 [==============================] - 399s 55ms/step - loss: 0.1312 - acc: 0.9543 - val_loss: 0.0639 - val_acc: 0.9838\n",
      "Epoch 39/100\n",
      "7200/7200 [==============================] - 412s 57ms/step - loss: 0.1190 - acc: 0.9608 - val_loss: 0.0602 - val_acc: 0.9840\n",
      "Epoch 40/100\n",
      "7200/7200 [==============================] - 404s 56ms/step - loss: 0.1144 - acc: 0.9604 - val_loss: 0.0539 - val_acc: 0.9868\n",
      "Epoch 41/100\n",
      "7200/7200 [==============================] - 414s 58ms/step - loss: 0.0998 - acc: 0.9657 - val_loss: 0.0483 - val_acc: 0.9874\n",
      "Epoch 42/100\n",
      "7200/7200 [==============================] - 408s 57ms/step - loss: 0.0987 - acc: 0.9679 - val_loss: 0.0476 - val_acc: 0.9890\n",
      "Epoch 43/100\n",
      "7200/7200 [==============================] - 348s 48ms/step - loss: 0.0913 - acc: 0.9671 - val_loss: 0.0480 - val_acc: 0.9883\n",
      "Epoch 44/100\n",
      "7200/7200 [==============================] - 359s 50ms/step - loss: 0.0916 - acc: 0.9686 - val_loss: 0.0502 - val_acc: 0.9861\n",
      "Epoch 45/100\n",
      "7200/7200 [==============================] - 368s 51ms/step - loss: 0.0898 - acc: 0.9711 - val_loss: 0.0458 - val_acc: 0.9882\n",
      "Epoch 46/100\n",
      "7200/7200 [==============================] - 369s 51ms/step - loss: 0.0852 - acc: 0.9697 - val_loss: 0.0408 - val_acc: 0.9904\n",
      "Epoch 47/100\n",
      "7200/7200 [==============================] - 373s 52ms/step - loss: 0.0843 - acc: 0.9725 - val_loss: 0.0395 - val_acc: 0.9900\n",
      "Epoch 48/100\n",
      "7200/7200 [==============================] - 388s 54ms/step - loss: 0.0790 - acc: 0.9760 - val_loss: 0.0378 - val_acc: 0.9910\n",
      "Epoch 49/100\n",
      "7200/7200 [==============================] - 404s 56ms/step - loss: 0.0786 - acc: 0.9740 - val_loss: 0.0388 - val_acc: 0.9906\n",
      "Epoch 50/100\n",
      "7200/7200 [==============================] - 392s 55ms/step - loss: 0.0666 - acc: 0.9772 - val_loss: 0.0356 - val_acc: 0.9910\n",
      "Epoch 51/100\n",
      "7200/7200 [==============================] - 367s 51ms/step - loss: 0.0631 - acc: 0.9781 - val_loss: 0.0356 - val_acc: 0.9918\n",
      "Epoch 52/100\n",
      "7200/7200 [==============================] - 338s 47ms/step - loss: 0.0720 - acc: 0.9754 - val_loss: 0.0349 - val_acc: 0.9911\n",
      "Epoch 53/100\n",
      "7200/7200 [==============================] - 362s 50ms/step - loss: 0.0642 - acc: 0.9796 - val_loss: 0.0341 - val_acc: 0.9919\n",
      "Epoch 54/100\n",
      "7200/7200 [==============================] - 364s 51ms/step - loss: 0.0657 - acc: 0.9764 - val_loss: 0.0319 - val_acc: 0.9911\n",
      "Epoch 55/100\n",
      "7200/7200 [==============================] - 364s 51ms/step - loss: 0.0587 - acc: 0.9797 - val_loss: 0.0351 - val_acc: 0.9907\n",
      "Epoch 56/100\n",
      "7200/7200 [==============================] - 360s 50ms/step - loss: 0.0570 - acc: 0.9796 - val_loss: 0.0310 - val_acc: 0.9919\n",
      "Epoch 57/100\n",
      "7200/7200 [==============================] - 343s 48ms/step - loss: 0.0516 - acc: 0.9839 - val_loss: 0.0294 - val_acc: 0.9921\n",
      "Epoch 58/100\n",
      "7200/7200 [==============================] - 358s 50ms/step - loss: 0.0498 - acc: 0.9833 - val_loss: 0.0298 - val_acc: 0.9925\n",
      "Epoch 59/100\n"
     ]
    },
    {
     "name": "stdout",
     "output_type": "stream",
     "text": [
      "7200/7200 [==============================] - 356s 49ms/step - loss: 0.0467 - acc: 0.9863 - val_loss: 0.0273 - val_acc: 0.9925\n",
      "Epoch 60/100\n",
      "7200/7200 [==============================] - 371s 52ms/step - loss: 0.0497 - acc: 0.9822 - val_loss: 0.0287 - val_acc: 0.9919\n",
      "Epoch 61/100\n",
      "7200/7200 [==============================] - 349s 48ms/step - loss: 0.0480 - acc: 0.9839 - val_loss: 0.0265 - val_acc: 0.9925\n",
      "Epoch 62/100\n",
      "7200/7200 [==============================] - 340s 47ms/step - loss: 0.0428 - acc: 0.9837 - val_loss: 0.0292 - val_acc: 0.9921\n",
      "Epoch 63/100\n",
      "7200/7200 [==============================] - 340s 47ms/step - loss: 0.0461 - acc: 0.9847 - val_loss: 0.0285 - val_acc: 0.9928\n",
      "Epoch 64/100\n",
      "7200/7200 [==============================] - 340s 47ms/step - loss: 0.0434 - acc: 0.9858 - val_loss: 0.0253 - val_acc: 0.9929\n",
      "Epoch 65/100\n",
      "7200/7200 [==============================] - 339s 47ms/step - loss: 0.0401 - acc: 0.9878 - val_loss: 0.0248 - val_acc: 0.9932\n",
      "Epoch 66/100\n",
      "7200/7200 [==============================] - 341s 47ms/step - loss: 0.0374 - acc: 0.9876 - val_loss: 0.0274 - val_acc: 0.9929\n",
      "Epoch 67/100\n",
      "7200/7200 [==============================] - 337s 47ms/step - loss: 0.0373 - acc: 0.9876 - val_loss: 0.0241 - val_acc: 0.9935\n",
      "Epoch 68/100\n",
      "7200/7200 [==============================] - 335s 47ms/step - loss: 0.0336 - acc: 0.9888 - val_loss: 0.0233 - val_acc: 0.9942\n",
      "Epoch 69/100\n",
      "7200/7200 [==============================] - 336s 47ms/step - loss: 0.0352 - acc: 0.9878 - val_loss: 0.0237 - val_acc: 0.9935\n",
      "Epoch 70/100\n",
      "7200/7200 [==============================] - 342s 47ms/step - loss: 0.0360 - acc: 0.9875 - val_loss: 0.0261 - val_acc: 0.9929\n",
      "Epoch 71/100\n",
      "7200/7200 [==============================] - 342s 48ms/step - loss: 0.0331 - acc: 0.9888 - val_loss: 0.0227 - val_acc: 0.9935\n",
      "Epoch 72/100\n",
      "7200/7200 [==============================] - 342s 48ms/step - loss: 0.0327 - acc: 0.9904 - val_loss: 0.0229 - val_acc: 0.9928\n",
      "Epoch 73/100\n",
      "7200/7200 [==============================] - 343s 48ms/step - loss: 0.0293 - acc: 0.9903 - val_loss: 0.0246 - val_acc: 0.9935\n",
      "Epoch 74/100\n",
      "7200/7200 [==============================] - 342s 48ms/step - loss: 0.0313 - acc: 0.9900 - val_loss: 0.0215 - val_acc: 0.9942\n",
      "Epoch 75/100\n",
      "7200/7200 [==============================] - 339s 47ms/step - loss: 0.0303 - acc: 0.9896 - val_loss: 0.0228 - val_acc: 0.9938\n",
      "Epoch 76/100\n",
      "7200/7200 [==============================] - 335s 47ms/step - loss: 0.0253 - acc: 0.9915 - val_loss: 0.0248 - val_acc: 0.9929\n",
      "Epoch 77/100\n",
      "7200/7200 [==============================] - 335s 47ms/step - loss: 0.0242 - acc: 0.9910 - val_loss: 0.0226 - val_acc: 0.9940\n",
      "Epoch 78/100\n",
      "7200/7200 [==============================] - 337s 47ms/step - loss: 0.0310 - acc: 0.9879 - val_loss: 0.0208 - val_acc: 0.9947\n",
      "Epoch 79/100\n",
      "7200/7200 [==============================] - 336s 47ms/step - loss: 0.0266 - acc: 0.9914 - val_loss: 0.0225 - val_acc: 0.9936\n",
      "Epoch 80/100\n",
      "7200/7200 [==============================] - 338s 47ms/step - loss: 0.0269 - acc: 0.9904 - val_loss: 0.0213 - val_acc: 0.9944\n",
      "Epoch 81/100\n",
      "7200/7200 [==============================] - 343s 48ms/step - loss: 0.0276 - acc: 0.9901 - val_loss: 0.0202 - val_acc: 0.9950\n",
      "Epoch 82/100\n",
      "7200/7200 [==============================] - 337s 47ms/step - loss: 0.0249 - acc: 0.9899 - val_loss: 0.0213 - val_acc: 0.9942\n",
      "Epoch 83/100\n",
      "7200/7200 [==============================] - 339s 47ms/step - loss: 0.0223 - acc: 0.9919 - val_loss: 0.0196 - val_acc: 0.9938\n",
      "Epoch 84/100\n",
      "7200/7200 [==============================] - 343s 48ms/step - loss: 0.0246 - acc: 0.9910 - val_loss: 0.0207 - val_acc: 0.9935\n",
      "Epoch 85/100\n",
      "7200/7200 [==============================] - 343s 48ms/step - loss: 0.0230 - acc: 0.9921 - val_loss: 0.0196 - val_acc: 0.9944\n",
      "Epoch 86/100\n",
      "7200/7200 [==============================] - 337s 47ms/step - loss: 0.0211 - acc: 0.9924 - val_loss: 0.0201 - val_acc: 0.9949\n",
      "Epoch 87/100\n",
      "7200/7200 [==============================] - 336s 47ms/step - loss: 0.0243 - acc: 0.9917 - val_loss: 0.0187 - val_acc: 0.9950\n",
      "Epoch 88/100\n",
      "7200/7200 [==============================] - 339s 47ms/step - loss: 0.0221 - acc: 0.9926 - val_loss: 0.0200 - val_acc: 0.9944\n",
      "Epoch 89/100\n",
      "7200/7200 [==============================] - 336s 47ms/step - loss: 0.0209 - acc: 0.9942 - val_loss: 0.0186 - val_acc: 0.9951\n",
      "Epoch 90/100\n",
      "7200/7200 [==============================] - 336s 47ms/step - loss: 0.0210 - acc: 0.9929 - val_loss: 0.0194 - val_acc: 0.9942\n",
      "Epoch 91/100\n",
      "7200/7200 [==============================] - 336s 47ms/step - loss: 0.0186 - acc: 0.9935 - val_loss: 0.0217 - val_acc: 0.9944\n",
      "Epoch 92/100\n",
      "7200/7200 [==============================] - 337s 47ms/step - loss: 0.0218 - acc: 0.9919 - val_loss: 0.0195 - val_acc: 0.9954\n",
      "Epoch 93/100\n",
      "7200/7200 [==============================] - 336s 47ms/step - loss: 0.0202 - acc: 0.9931 - val_loss: 0.0182 - val_acc: 0.9956\n",
      "Epoch 94/100\n",
      "7200/7200 [==============================] - 337s 47ms/step - loss: 0.0165 - acc: 0.9946 - val_loss: 0.0172 - val_acc: 0.9958\n",
      "Epoch 95/100\n",
      "7200/7200 [==============================] - 336s 47ms/step - loss: 0.0161 - acc: 0.9939 - val_loss: 0.0178 - val_acc: 0.9957\n",
      "Epoch 96/100\n",
      "7200/7200 [==============================] - 338s 47ms/step - loss: 0.0128 - acc: 0.9965 - val_loss: 0.0170 - val_acc: 0.9956\n",
      "Epoch 97/100\n",
      "7200/7200 [==============================] - 343s 48ms/step - loss: 0.0161 - acc: 0.9953 - val_loss: 0.0176 - val_acc: 0.9957\n",
      "Epoch 98/100\n",
      "7200/7200 [==============================] - 342s 48ms/step - loss: 0.0173 - acc: 0.9940 - val_loss: 0.0195 - val_acc: 0.9947\n",
      "Epoch 99/100\n",
      "7200/7200 [==============================] - 342s 47ms/step - loss: 0.0165 - acc: 0.9943 - val_loss: 0.0188 - val_acc: 0.9943\n",
      "Epoch 100/100\n",
      "7200/7200 [==============================] - 342s 48ms/step - loss: 0.0197 - acc: 0.9926 - val_loss: 0.0195 - val_acc: 0.9950\n"
     ]
    }
   ],
   "source": [
    "#np.resize(img, (-1, <image shape>)\n",
    "#cnnhistory=model.fit(X_train, y_train, batch_size=None, epochs=1, verbose=1, callbacks=None, \n",
    "                     #validation_split=0.0, validation_data=(X_test, y_test), shuffle=True) \n",
    "                     #sample_weight=None, initial_epoch=0, steps_per_epoch=None, validation_steps=None, validation_freq=1)\n",
    "cnnhistory=model.fit(X_train, y_train, batch_size=32, epochs=100, validation_data=(X_test, y_test), shuffle=True)"
   ]
  },
  {
   "cell_type": "code",
   "execution_count": 12,
   "metadata": {},
   "outputs": [],
   "source": [
    "#cnnhistory=model.fit(x_traincnn, y_train, batch_size=32, epochs=1200, validation_data=(x_testcnn, y_test), shuffle=True)"
   ]
  },
  {
   "cell_type": "code",
   "execution_count": 13,
   "metadata": {},
   "outputs": [
    {
     "data": {
      "image/png": "[encoded data removed]",
      "text/plain": [
       "<Figure size 432x288 with 1 Axes>"
      ]
     },
     "metadata": {
      "needs_background": "light"
     },
     "output_type": "display_data"
    }
   ],
   "source": [
    "plt.plot(cnnhistory.history['acc'])\n",
    "plt.plot(cnnhistory.history['val_acc'])\n",
    "plt.title('model accuracy')\n",
    "plt.ylabel('accuracy')\n",
    "plt.xlabel('epoch')\n",
    "plt.legend(['train', 'test'], loc='upper left')\n",
    "plt.show()"
   ]
  },
  {
   "cell_type": "code",
   "execution_count": 14,
   "metadata": {},
   "outputs": [
    {
     "data": {
      "image/png": "[encoded data removed]",
      "text/plain": [
       "<Figure size 432x288 with 1 Axes>"
      ]
     },
     "metadata": {
      "needs_background": "light"
     },
     "output_type": "display_data"
    }
   ],
   "source": [
    "plt.plot(cnnhistory.history['loss'])\n",
    "plt.plot(cnnhistory.history['val_loss'])\n",
    "plt.title('model loss')\n",
    "plt.ylabel('loss')\n",
    "plt.xlabel('epoch')\n",
    "plt.legend(['train', 'test'], loc='upper left')\n",
    "plt.show()"
   ]
  },
  {
   "cell_type": "code",
   "execution_count": null,
   "metadata": {},
   "outputs": [],
   "source": [
    "import os\n",
    "\n",
    "model_name = 'Emotion_face_Detection_Model.h5'\n",
    "save_dir = os.path.join(os.getcwd(), 'model_checkpoints')\n",
    "# Save model and weights\n",
    "if not os.path.isdir(save_dir):\n",
    "    os.makedirs(save_dir)\n",
    "model_path = os.path.join(save_dir, model_name)\n",
    "model.save(model_path)\n",
    "print('Saved trained model at %s ' % model_path)"
   ]
  },
  {
   "cell_type": "code",
   "execution_count": null,
   "metadata": {},
   "outputs": [],
   "source": []
  }
 ],
 "metadata": {
  "kernelspec": {
   "display_name": "Python 3",
   "language": "python",
   "name": "python3"
  }
 },
 "nbformat": 4,
 "nbformat_minor": 2
}
